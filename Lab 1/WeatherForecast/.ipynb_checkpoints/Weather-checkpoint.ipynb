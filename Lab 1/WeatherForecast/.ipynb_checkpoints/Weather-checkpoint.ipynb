{
 "cells": [
  {
   "cell_type": "code",
   "execution_count": 1,
   "id": "358d9147-02c7-435a-9ba6-10b706c9a6c7",
   "metadata": {},
   "outputs": [],
   "source": [
    "import pandas "
   ]
  },
  {
   "cell_type": "code",
   "execution_count": 8,
   "id": "d8ed5482-812a-4952-89d1-c689d0b2ffc0",
   "metadata": {},
   "outputs": [
    {
     "name": "stdout",
     "output_type": "stream",
     "text": [
      "         Date  Average temperature (°F)  Average humidity (%)  \\\n",
      "0  2009-01-01                      37.8                  35.0   \n",
      "1  2009-01-02                      43.2                  32.0   \n",
      "2  2009-01-03                      25.7                  60.0   \n",
      "3  2009-01-04                       9.3                  67.0   \n",
      "4  2009-01-05                      23.5                  30.0   \n",
      "\n",
      "   Average dewpoint (°F)  Average barometer (in)  Average windspeed (mph)  \\\n",
      "0                   12.7                    29.7                     26.4   \n",
      "1                   14.7                    29.5                     12.8   \n",
      "2                   12.7                    29.7                      8.3   \n",
      "3                    0.1                    30.4                      2.9   \n",
      "4                   -5.3                    29.9                     16.7   \n",
      "\n",
      "   Average gustspeed (mph)  Average direction (°deg)  Rainfall for month (in)  \\\n",
      "0                     36.8                     274.0                      0.0   \n",
      "1                     18.0                     240.0                      0.0   \n",
      "2                     12.2                     290.0                      0.0   \n",
      "3                      4.5                      47.0                      0.0   \n",
      "4                     23.1                     265.0                      0.0   \n",
      "\n",
      "   Rainfall for year (in)  Month  \n",
      "0                     0.0      1  \n",
      "1                     0.0      1  \n",
      "2                     0.0      1  \n",
      "3                     0.0      1  \n",
      "4                     0.0      1  \n",
      "Index(['Date', 'Average temperature (°F)', 'Average humidity (%)',\n",
      "       'Average dewpoint (°F)', 'Average barometer (in)',\n",
      "       'Average windspeed (mph)', 'Average gustspeed (mph)',\n",
      "       'Average direction (°deg)', 'Rainfall for month (in)',\n",
      "       'Rainfall for year (in)', 'Month'],\n",
      "      dtype='object')\n"
     ]
    }
   ],
   "source": [
    "import numpy as np\n",
    "from sklearn.model_selection import train_test_split\n",
    "from sklearn.linear_model import LinearRegression\n",
    "from sklearn.metrics import mean_squared_error\n",
    "import pandas as pd\n",
    "import matplotlib.pyplot as plt\n",
    "data = pd.read_csv(r'D:\\ASG_PRJ\\Climate Data.csv')\n",
    "\n",
    "print(data.head())\n",
    "print(data.columns)"
   ]
  },
  {
   "cell_type": "code",
   "execution_count": 10,
   "id": "6bf643bd-e70e-4fa5-a4a0-af6574b69b85",
   "metadata": {},
   "outputs": [
    {
     "name": "stdout",
     "output_type": "stream",
     "text": [
      "DatetimeIndex(['2009-01-01', '2009-01-02', '2009-01-03', '2009-01-04',\n",
      "               '2009-01-05', '2009-01-06', '2009-01-07', '2009-01-08',\n",
      "               '2009-01-09', '2009-01-10',\n",
      "               ...\n",
      "               '2020-07-19', '2020-07-20', '2020-07-21', '2020-07-22',\n",
      "               '2020-07-23', '2020-07-24', '2020-07-25', '2020-07-26',\n",
      "               '2020-07-27', '2020-07-28'],\n",
      "              dtype='datetime64[ns]', name='Date', length=4227, freq='D')\n"
     ]
    }
   ],
   "source": [
    "print(data.index)\n"
   ]
  },
  {
   "cell_type": "code",
   "execution_count": 11,
   "id": "9ea21278-f473-4cd7-af6a-3c307416785f",
   "metadata": {},
   "outputs": [
    {
     "name": "stdout",
     "output_type": "stream",
     "text": [
      "0      2009-01-01\n",
      "1      2009-01-02\n",
      "2      2009-01-03\n",
      "3      2009-01-04\n",
      "4      2009-01-05\n",
      "          ...    \n",
      "4222   2020-07-24\n",
      "4223   2020-07-25\n",
      "4224   2020-07-26\n",
      "4225   2020-07-27\n",
      "4226   2020-07-28\n",
      "Name: Date, Length: 4227, dtype: datetime64[ns]\n"
     ]
    }
   ],
   "source": [
    "data.reset_index(inplace=True)\n",
    "print(data['Date'])"
   ]
  },
  {
   "cell_type": "code",
   "execution_count": 12,
   "id": "89ab96af-86ef-4c02-b1fc-687fd1b6a90d",
   "metadata": {},
   "outputs": [
    {
     "name": "stdout",
     "output_type": "stream",
     "text": [
      "Date\n",
      "2009-01-01   2009-01-01\n",
      "2009-01-02   2009-01-02\n",
      "2009-01-03   2009-01-03\n",
      "2009-01-04   2009-01-04\n",
      "2009-01-05   2009-01-05\n",
      "                ...    \n",
      "2020-07-24   2020-07-24\n",
      "2020-07-25   2020-07-25\n",
      "2020-07-26   2020-07-26\n",
      "2020-07-27   2020-07-27\n",
      "2020-07-28   2020-07-28\n",
      "Name: DateColumn, Length: 4227, dtype: datetime64[ns]\n"
     ]
    }
   ],
   "source": [
    "data['Date'] = pd.to_datetime(data['Date'])\n",
    "data['DateColumn'] = data['Date']\n",
    "data.set_index(\"Date\", inplace=True)\n",
    "print(data['DateColumn'])\n"
   ]
  },
  {
   "cell_type": "code",
   "execution_count": 9,
   "id": "7c589cc5-a6db-4962-add0-e60529c8f977",
   "metadata": {},
   "outputs": [
    {
     "ename": "KeyError",
     "evalue": "'Date'",
     "output_type": "error",
     "traceback": [
      "\u001b[1;31m---------------------------------------------------------------------------\u001b[0m",
      "\u001b[1;31mKeyError\u001b[0m                                  Traceback (most recent call last)",
      "File \u001b[1;32m~\\AppData\\Local\\Programs\\Python\\Python312\\Lib\\site-packages\\pandas\\core\\indexes\\base.py:3805\u001b[0m, in \u001b[0;36mIndex.get_loc\u001b[1;34m(self, key)\u001b[0m\n\u001b[0;32m   3804\u001b[0m \u001b[38;5;28;01mtry\u001b[39;00m:\n\u001b[1;32m-> 3805\u001b[0m     \u001b[38;5;28;01mreturn\u001b[39;00m \u001b[38;5;28;43mself\u001b[39;49m\u001b[38;5;241;43m.\u001b[39;49m\u001b[43m_engine\u001b[49m\u001b[38;5;241;43m.\u001b[39;49m\u001b[43mget_loc\u001b[49m\u001b[43m(\u001b[49m\u001b[43mcasted_key\u001b[49m\u001b[43m)\u001b[49m\n\u001b[0;32m   3806\u001b[0m \u001b[38;5;28;01mexcept\u001b[39;00m \u001b[38;5;167;01mKeyError\u001b[39;00m \u001b[38;5;28;01mas\u001b[39;00m err:\n",
      "File \u001b[1;32mindex.pyx:167\u001b[0m, in \u001b[0;36mpandas._libs.index.IndexEngine.get_loc\u001b[1;34m()\u001b[0m\n",
      "File \u001b[1;32mindex.pyx:196\u001b[0m, in \u001b[0;36mpandas._libs.index.IndexEngine.get_loc\u001b[1;34m()\u001b[0m\n",
      "File \u001b[1;32mpandas\\\\_libs\\\\hashtable_class_helper.pxi:7081\u001b[0m, in \u001b[0;36mpandas._libs.hashtable.PyObjectHashTable.get_item\u001b[1;34m()\u001b[0m\n",
      "File \u001b[1;32mpandas\\\\_libs\\\\hashtable_class_helper.pxi:7089\u001b[0m, in \u001b[0;36mpandas._libs.hashtable.PyObjectHashTable.get_item\u001b[1;34m()\u001b[0m\n",
      "\u001b[1;31mKeyError\u001b[0m: 'Date'",
      "\nThe above exception was the direct cause of the following exception:\n",
      "\u001b[1;31mKeyError\u001b[0m                                  Traceback (most recent call last)",
      "Cell \u001b[1;32mIn[9], line 13\u001b[0m\n\u001b[0;32m      6\u001b[0m \u001b[38;5;66;03m# Visualizing the whole data\u001b[39;00m\n\u001b[0;32m      7\u001b[0m \u001b[38;5;66;03m# plt.rcParams['figure.figsize'] = (10,10)\u001b[39;00m\n\u001b[0;32m      8\u001b[0m \u001b[38;5;66;03m# data.plot(subplots=True, title=\"Variable Visualization\")\u001b[39;00m\n\u001b[0;32m      9\u001b[0m \u001b[38;5;66;03m# plt.legend()\u001b[39;00m\n\u001b[0;32m     10\u001b[0m \u001b[38;5;66;03m# plt.show()\u001b[39;00m\n\u001b[0;32m     12\u001b[0m model \u001b[38;5;241m=\u001b[39m LinearRegression()\n\u001b[1;32m---> 13\u001b[0m \u001b[38;5;28mprint\u001b[39m(\u001b[43mdata\u001b[49m\u001b[43m[\u001b[49m\u001b[38;5;124;43m'\u001b[39;49m\u001b[38;5;124;43mDate\u001b[39;49m\u001b[38;5;124;43m'\u001b[39;49m\u001b[43m]\u001b[49m)\n",
      "File \u001b[1;32m~\\AppData\\Local\\Programs\\Python\\Python312\\Lib\\site-packages\\pandas\\core\\frame.py:4102\u001b[0m, in \u001b[0;36mDataFrame.__getitem__\u001b[1;34m(self, key)\u001b[0m\n\u001b[0;32m   4100\u001b[0m \u001b[38;5;28;01mif\u001b[39;00m \u001b[38;5;28mself\u001b[39m\u001b[38;5;241m.\u001b[39mcolumns\u001b[38;5;241m.\u001b[39mnlevels \u001b[38;5;241m>\u001b[39m \u001b[38;5;241m1\u001b[39m:\n\u001b[0;32m   4101\u001b[0m     \u001b[38;5;28;01mreturn\u001b[39;00m \u001b[38;5;28mself\u001b[39m\u001b[38;5;241m.\u001b[39m_getitem_multilevel(key)\n\u001b[1;32m-> 4102\u001b[0m indexer \u001b[38;5;241m=\u001b[39m \u001b[38;5;28;43mself\u001b[39;49m\u001b[38;5;241;43m.\u001b[39;49m\u001b[43mcolumns\u001b[49m\u001b[38;5;241;43m.\u001b[39;49m\u001b[43mget_loc\u001b[49m\u001b[43m(\u001b[49m\u001b[43mkey\u001b[49m\u001b[43m)\u001b[49m\n\u001b[0;32m   4103\u001b[0m \u001b[38;5;28;01mif\u001b[39;00m is_integer(indexer):\n\u001b[0;32m   4104\u001b[0m     indexer \u001b[38;5;241m=\u001b[39m [indexer]\n",
      "File \u001b[1;32m~\\AppData\\Local\\Programs\\Python\\Python312\\Lib\\site-packages\\pandas\\core\\indexes\\base.py:3812\u001b[0m, in \u001b[0;36mIndex.get_loc\u001b[1;34m(self, key)\u001b[0m\n\u001b[0;32m   3807\u001b[0m     \u001b[38;5;28;01mif\u001b[39;00m \u001b[38;5;28misinstance\u001b[39m(casted_key, \u001b[38;5;28mslice\u001b[39m) \u001b[38;5;129;01mor\u001b[39;00m (\n\u001b[0;32m   3808\u001b[0m         \u001b[38;5;28misinstance\u001b[39m(casted_key, abc\u001b[38;5;241m.\u001b[39mIterable)\n\u001b[0;32m   3809\u001b[0m         \u001b[38;5;129;01mand\u001b[39;00m \u001b[38;5;28many\u001b[39m(\u001b[38;5;28misinstance\u001b[39m(x, \u001b[38;5;28mslice\u001b[39m) \u001b[38;5;28;01mfor\u001b[39;00m x \u001b[38;5;129;01min\u001b[39;00m casted_key)\n\u001b[0;32m   3810\u001b[0m     ):\n\u001b[0;32m   3811\u001b[0m         \u001b[38;5;28;01mraise\u001b[39;00m InvalidIndexError(key)\n\u001b[1;32m-> 3812\u001b[0m     \u001b[38;5;28;01mraise\u001b[39;00m \u001b[38;5;167;01mKeyError\u001b[39;00m(key) \u001b[38;5;28;01mfrom\u001b[39;00m \u001b[38;5;21;01merr\u001b[39;00m\n\u001b[0;32m   3813\u001b[0m \u001b[38;5;28;01mexcept\u001b[39;00m \u001b[38;5;167;01mTypeError\u001b[39;00m:\n\u001b[0;32m   3814\u001b[0m     \u001b[38;5;66;03m# If we have a listlike key, _check_indexing_error will raise\u001b[39;00m\n\u001b[0;32m   3815\u001b[0m     \u001b[38;5;66;03m#  InvalidIndexError. Otherwise we fall through and re-raise\u001b[39;00m\n\u001b[0;32m   3816\u001b[0m     \u001b[38;5;66;03m#  the TypeError.\u001b[39;00m\n\u001b[0;32m   3817\u001b[0m     \u001b[38;5;28mself\u001b[39m\u001b[38;5;241m.\u001b[39m_check_indexing_error(key)\n",
      "\u001b[1;31mKeyError\u001b[0m: 'Date'"
     ]
    }
   ],
   "source": [
    "data['Date'] = pd.to_datetime(data['Date'])\n",
    "data.set_index(\"Date\", inplace=True)\n",
    "data = data.asfreq(\"D\")\n",
    "\n",
    "\n",
    "# Visualizing the whole data\n",
    "# plt.rcParams['figure.figsize'] = (10,10)\n",
    "# data.plot(subplots=True, title=\"Variable Visualization\")\n",
    "# plt.legend()\n",
    "# plt.show()\n",
    "\n",
    "model = LinearRegression()\n",
    "print(data['Date'])"
   ]
  },
  {
   "cell_type": "code",
   "execution_count": null,
   "id": "8e691840-e166-40be-9c22-6f2edc345f53",
   "metadata": {},
   "outputs": [],
   "source": []
  }
 ],
 "metadata": {
  "kernelspec": {
   "display_name": "Python 3 (ipykernel)",
   "language": "python",
   "name": "python3"
  },
  "language_info": {
   "codemirror_mode": {
    "name": "ipython",
    "version": 3
   },
   "file_extension": ".py",
   "mimetype": "text/x-python",
   "name": "python",
   "nbconvert_exporter": "python",
   "pygments_lexer": "ipython3",
   "version": "3.12.6"
  }
 },
 "nbformat": 4,
 "nbformat_minor": 5
}
