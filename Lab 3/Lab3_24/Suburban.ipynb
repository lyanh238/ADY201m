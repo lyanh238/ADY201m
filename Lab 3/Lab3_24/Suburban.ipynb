{
 "cells": [
  {
   "cell_type": "code",
   "execution_count": 1,
   "id": "be70c42c-ab8b-4a2f-ada8-40bcb2142958",
   "metadata": {},
   "outputs": [],
   "source": [
    "import pandas as pd"
   ]
  },
  {
   "cell_type": "code",
   "execution_count": 2,
   "id": "d165a7a3-039b-49cb-8bc5-760b06cb32c5",
   "metadata": {},
   "outputs": [],
   "source": [
    "df = pd.read_csv(\"cleaned_df.csv\")"
   ]
  },
  {
   "cell_type": "code",
   "execution_count": 3,
   "id": "de0b2bcc-7a0d-44b1-9a0f-122823af1cb5",
   "metadata": {},
   "outputs": [
    {
     "data": {
      "text/html": [
       "<div>\n",
       "<style scoped>\n",
       "    .dataframe tbody tr th:only-of-type {\n",
       "        vertical-align: middle;\n",
       "    }\n",
       "\n",
       "    .dataframe tbody tr th {\n",
       "        vertical-align: top;\n",
       "    }\n",
       "\n",
       "    .dataframe thead th {\n",
       "        text-align: right;\n",
       "    }\n",
       "</style>\n",
       "<table border=\"1\" class=\"dataframe\">\n",
       "  <thead>\n",
       "    <tr style=\"text-align: right;\">\n",
       "      <th></th>\n",
       "      <th>State</th>\n",
       "      <th>City</th>\n",
       "      <th>Street</th>\n",
       "      <th>Zipcode</th>\n",
       "      <th>Bedroom</th>\n",
       "      <th>Bathroom</th>\n",
       "      <th>Area</th>\n",
       "      <th>PPSq</th>\n",
       "      <th>LotArea</th>\n",
       "      <th>MarketEstimate</th>\n",
       "      <th>RentEstimate</th>\n",
       "      <th>Latitude</th>\n",
       "      <th>Longitude</th>\n",
       "      <th>ListedPrice</th>\n",
       "    </tr>\n",
       "  </thead>\n",
       "  <tbody>\n",
       "    <tr>\n",
       "      <th>0</th>\n",
       "      <td>AL</td>\n",
       "      <td>Saraland</td>\n",
       "      <td>Scott Dr</td>\n",
       "      <td>36571</td>\n",
       "      <td>4.0</td>\n",
       "      <td>2.0</td>\n",
       "      <td>1614</td>\n",
       "      <td>148.636927</td>\n",
       "      <td>0.3805</td>\n",
       "      <td>240600.0</td>\n",
       "      <td>1599.0</td>\n",
       "      <td>30.819534</td>\n",
       "      <td>-88.095960</td>\n",
       "      <td>239900</td>\n",
       "    </tr>\n",
       "    <tr>\n",
       "      <th>1</th>\n",
       "      <td>AL</td>\n",
       "      <td>Robertsdale</td>\n",
       "      <td>Cowpen Creek Rd</td>\n",
       "      <td>36567</td>\n",
       "      <td>3.0</td>\n",
       "      <td>2.0</td>\n",
       "      <td>1800</td>\n",
       "      <td>144.388889</td>\n",
       "      <td>3.2000</td>\n",
       "      <td>NaN</td>\n",
       "      <td>NaN</td>\n",
       "      <td>30.590004</td>\n",
       "      <td>-87.580376</td>\n",
       "      <td>259900</td>\n",
       "    </tr>\n",
       "    <tr>\n",
       "      <th>2</th>\n",
       "      <td>AL</td>\n",
       "      <td>Gulf Shores</td>\n",
       "      <td>Spinnaker Dr #201</td>\n",
       "      <td>36542</td>\n",
       "      <td>2.0</td>\n",
       "      <td>2.0</td>\n",
       "      <td>1250</td>\n",
       "      <td>274.000000</td>\n",
       "      <td>NaN</td>\n",
       "      <td>NaN</td>\n",
       "      <td>NaN</td>\n",
       "      <td>30.284956</td>\n",
       "      <td>-87.747920</td>\n",
       "      <td>342500</td>\n",
       "    </tr>\n",
       "    <tr>\n",
       "      <th>3</th>\n",
       "      <td>AL</td>\n",
       "      <td>Chelsea</td>\n",
       "      <td>Mallet Way</td>\n",
       "      <td>35043</td>\n",
       "      <td>3.0</td>\n",
       "      <td>3.0</td>\n",
       "      <td>2224</td>\n",
       "      <td>150.629496</td>\n",
       "      <td>0.2600</td>\n",
       "      <td>336200.0</td>\n",
       "      <td>1932.0</td>\n",
       "      <td>33.357986</td>\n",
       "      <td>-86.608700</td>\n",
       "      <td>335000</td>\n",
       "    </tr>\n",
       "    <tr>\n",
       "      <th>4</th>\n",
       "      <td>AL</td>\n",
       "      <td>Huntsville</td>\n",
       "      <td>Turtlebrook Ct</td>\n",
       "      <td>35811</td>\n",
       "      <td>3.0</td>\n",
       "      <td>2.0</td>\n",
       "      <td>1225</td>\n",
       "      <td>204.081633</td>\n",
       "      <td>NaN</td>\n",
       "      <td>222700.0</td>\n",
       "      <td>1679.0</td>\n",
       "      <td>34.775517</td>\n",
       "      <td>-86.440700</td>\n",
       "      <td>250000</td>\n",
       "    </tr>\n",
       "  </tbody>\n",
       "</table>\n",
       "</div>"
      ],
      "text/plain": [
       "  State         City             Street  Zipcode  Bedroom  Bathroom  Area  \\\n",
       "0    AL     Saraland           Scott Dr    36571      4.0       2.0  1614   \n",
       "1    AL  Robertsdale    Cowpen Creek Rd    36567      3.0       2.0  1800   \n",
       "2    AL  Gulf Shores  Spinnaker Dr #201    36542      2.0       2.0  1250   \n",
       "3    AL      Chelsea         Mallet Way    35043      3.0       3.0  2224   \n",
       "4    AL   Huntsville     Turtlebrook Ct    35811      3.0       2.0  1225   \n",
       "\n",
       "         PPSq  LotArea  MarketEstimate  RentEstimate   Latitude  Longitude  \\\n",
       "0  148.636927   0.3805        240600.0        1599.0  30.819534 -88.095960   \n",
       "1  144.388889   3.2000             NaN           NaN  30.590004 -87.580376   \n",
       "2  274.000000      NaN             NaN           NaN  30.284956 -87.747920   \n",
       "3  150.629496   0.2600        336200.0        1932.0  33.357986 -86.608700   \n",
       "4  204.081633      NaN        222700.0        1679.0  34.775517 -86.440700   \n",
       "\n",
       "   ListedPrice  \n",
       "0       239900  \n",
       "1       259900  \n",
       "2       342500  \n",
       "3       335000  \n",
       "4       250000  "
      ]
     },
     "execution_count": 3,
     "metadata": {},
     "output_type": "execute_result"
    }
   ],
   "source": [
    "df.head()"
   ]
  },
  {
   "cell_type": "code",
   "execution_count": 4,
   "id": "b2bb13fa-5627-41f4-a936-c391bd6b27d6",
   "metadata": {},
   "outputs": [
    {
     "data": {
      "text/plain": [
       "State                0\n",
       "City                 0\n",
       "Street               0\n",
       "Zipcode              0\n",
       "Bedroom             14\n",
       "Bathroom            34\n",
       "Area                 0\n",
       "PPSq                 0\n",
       "LotArea            902\n",
       "MarketEstimate    7236\n",
       "RentEstimate      5976\n",
       "Latitude             0\n",
       "Longitude            0\n",
       "ListedPrice          0\n",
       "dtype: int64"
      ]
     },
     "execution_count": 4,
     "metadata": {},
     "output_type": "execute_result"
    }
   ],
   "source": [
    "df.isnull().sum()"
   ]
  },
  {
   "cell_type": "raw",
   "id": "009a21df-5db8-4ea6-9ec2-78df687ecb92",
   "metadata": {},
   "source": [
    "The project have most of the requirements about price, area but not depend too much on bedroom or bathroom"
   ]
  },
  {
   "cell_type": "code",
   "execution_count": null,
   "id": "473102c5-23c8-4690-baff-ae58d0cc104f",
   "metadata": {},
   "outputs": [],
   "source": [
    "df['New Jersey ']"
   ]
  }
 ],
 "metadata": {
  "kernelspec": {
   "display_name": "Python 3 (ipykernel)",
   "language": "python",
   "name": "python3"
  },
  "language_info": {
   "codemirror_mode": {
    "name": "ipython",
    "version": 3
   },
   "file_extension": ".py",
   "mimetype": "text/x-python",
   "name": "python",
   "nbconvert_exporter": "python",
   "pygments_lexer": "ipython3",
   "version": "3.12.6"
  }
 },
 "nbformat": 4,
 "nbformat_minor": 5
}
